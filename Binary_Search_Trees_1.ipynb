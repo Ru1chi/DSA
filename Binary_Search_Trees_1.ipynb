{
  "nbformat": 4,
  "nbformat_minor": 0,
  "metadata": {
    "colab": {
      "provenance": [],
      "authorship_tag": "ABX9TyPPOlevNWk5/lpyPiRfwEUD",
      "include_colab_link": true
    },
    "kernelspec": {
      "name": "python3",
      "display_name": "Python 3"
    },
    "language_info": {
      "name": "python"
    }
  },
  "cells": [
    {
      "cell_type": "markdown",
      "metadata": {
        "id": "view-in-github",
        "colab_type": "text"
      },
      "source": [
        "<a href=\"https://colab.research.google.com/github/Ru1chi/DSA/blob/main/Binary_Search_Trees_1.ipynb\" target=\"_parent\"><img src=\"https://colab.research.google.com/assets/colab-badge.svg\" alt=\"Open In Colab\"/></a>"
      ]
    },
    {
      "cell_type": "markdown",
      "source": [
        "## **Implement a binary tree using Python, and show its usage with some examples.**"
      ],
      "metadata": {
        "id": "BBZqk_EIxREi"
      }
    },
    {
      "cell_type": "code",
      "execution_count": 4,
      "metadata": {
        "colab": {
          "base_uri": "https://localhost:8080/"
        },
        "id": "Q2gPKyRtj4i_",
        "outputId": "731aa5c8-6889-4734-a071-25bc12d52ee3"
      },
      "outputs": [
        {
          "output_type": "stream",
          "name": "stdout",
          "text": [
            "CPU times: user 13.4 s, sys: 15.7 ms, total: 13.4 s\n",
            "Wall time: 13.5 s\n"
          ]
        }
      ],
      "source": [
        "%%time\n",
        "for i in range(100000000):\n",
        "  j=i*i\n"
      ]
    },
    {
      "cell_type": "code",
      "source": [
        "!pip install jovian --upgrade --quiet\n"
      ],
      "metadata": {
        "colab": {
          "base_uri": "https://localhost:8080/"
        },
        "id": "_BD8iubtknib",
        "outputId": "7290ecc7-74d0-4410-bfb7-5cbe8e3f5eae"
      },
      "execution_count": 5,
      "outputs": [
        {
          "output_type": "stream",
          "name": "stdout",
          "text": [
            "\u001b[?25l     \u001b[90m━━━━━━━━━━━━━━━━━━━━━━━━━━━━━━━━━━━━━━━━\u001b[0m \u001b[32m0.0/68.6 kB\u001b[0m \u001b[31m?\u001b[0m eta \u001b[36m-:--:--\u001b[0m\r\u001b[2K     \u001b[90m━━━━━━━━━━━━━━━━━━━━━━━━━━━━━━━━━━━━━━━━\u001b[0m \u001b[32m68.6/68.6 kB\u001b[0m \u001b[31m2.1 MB/s\u001b[0m eta \u001b[36m0:00:00\u001b[0m\n",
            "\u001b[?25h  Preparing metadata (setup.py) ... \u001b[?25l\u001b[?25hdone\n",
            "  Building wheel for uuid (setup.py) ... \u001b[?25l\u001b[?25hdone\n"
          ]
        }
      ]
    },
    {
      "cell_type": "code",
      "source": [
        "import jovian\n"
      ],
      "metadata": {
        "id": "M7N3pUbqk-RQ"
      },
      "execution_count": 6,
      "outputs": []
    },
    {
      "cell_type": "markdown",
      "source": [
        "### **Making a binary search tree example**"
      ],
      "metadata": {
        "id": "RYT-I3bGmtFy"
      }
    },
    {
      "cell_type": "markdown",
      "source": [
        "![image.png](data:image/png;base64,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)"
      ],
      "metadata": {
        "id": "Ow3W5qOtmouD"
      }
    },
    {
      "cell_type": "code",
      "source": [
        "class treeNode():\n",
        "  def __init__(self,key):\n",
        "    self.key=key\n",
        "    self.left=None\n",
        "    self.right=None\n"
      ],
      "metadata": {
        "id": "F8iS9aIRlAdx"
      },
      "execution_count": 7,
      "outputs": []
    },
    {
      "cell_type": "markdown",
      "source": [
        "## **create the nodes**"
      ],
      "metadata": {
        "id": "nUPJrAa8o8Sf"
      }
    },
    {
      "cell_type": "code",
      "source": [
        "node0=treeNode(3)\n",
        "node1=treeNode(4)\n",
        "node2=treeNode(5)\n"
      ],
      "metadata": {
        "id": "NxOA_S_LombT"
      },
      "execution_count": 8,
      "outputs": []
    },
    {
      "cell_type": "code",
      "source": [
        "node0"
      ],
      "metadata": {
        "colab": {
          "base_uri": "https://localhost:8080/"
        },
        "id": "OlIgoER3pHni",
        "outputId": "05cc3aad-020d-4f42-a677-1ac153b09c0d"
      },
      "execution_count": 9,
      "outputs": [
        {
          "output_type": "execute_result",
          "data": {
            "text/plain": [
              "<__main__.treeNode at 0x7d2585fb09d0>"
            ]
          },
          "metadata": {},
          "execution_count": 9
        }
      ]
    },
    {
      "cell_type": "code",
      "source": [
        "node0.key"
      ],
      "metadata": {
        "colab": {
          "base_uri": "https://localhost:8080/"
        },
        "id": "_UlukdZopL02",
        "outputId": "c16c1315-a5ac-412e-c1bf-5769ae39e563"
      },
      "execution_count": 10,
      "outputs": [
        {
          "output_type": "execute_result",
          "data": {
            "text/plain": [
              "3"
            ]
          },
          "metadata": {},
          "execution_count": 10
        }
      ]
    },
    {
      "cell_type": "markdown",
      "source": [
        "## **Now connect the nodes**"
      ],
      "metadata": {
        "id": "Mch7FmD5qBTW"
      }
    },
    {
      "cell_type": "code",
      "source": [
        "node0.left=node1\n",
        "node0.right=node2"
      ],
      "metadata": {
        "id": "uO7b4Oi6pPzF"
      },
      "execution_count": 11,
      "outputs": []
    },
    {
      "cell_type": "markdown",
      "source": [
        "root node"
      ],
      "metadata": {
        "id": "oy0LhjuKqQVj"
      }
    },
    {
      "cell_type": "code",
      "source": [
        "tree=node0"
      ],
      "metadata": {
        "id": "Rm_rBi43qLky"
      },
      "execution_count": 12,
      "outputs": []
    },
    {
      "cell_type": "code",
      "source": [
        "tree.key"
      ],
      "metadata": {
        "colab": {
          "base_uri": "https://localhost:8080/"
        },
        "id": "w2uDMep3qTB5",
        "outputId": "9a259108-dbdb-4a2e-a4e1-3a762a29cd25"
      },
      "execution_count": 13,
      "outputs": [
        {
          "output_type": "execute_result",
          "data": {
            "text/plain": [
              "3"
            ]
          },
          "metadata": {},
          "execution_count": 13
        }
      ]
    },
    {
      "cell_type": "code",
      "source": [
        "tree.left.key"
      ],
      "metadata": {
        "colab": {
          "base_uri": "https://localhost:8080/"
        },
        "id": "4XwT2r1kqUwI",
        "outputId": "3738ed9a-d9ed-464a-e161-442723d09ea6"
      },
      "execution_count": 14,
      "outputs": [
        {
          "output_type": "execute_result",
          "data": {
            "text/plain": [
              "4"
            ]
          },
          "metadata": {},
          "execution_count": 14
        }
      ]
    },
    {
      "cell_type": "code",
      "source": [
        "tree.right.key"
      ],
      "metadata": {
        "colab": {
          "base_uri": "https://localhost:8080/"
        },
        "id": "izM2SPbGqWw5",
        "outputId": "6c674ad4-b01f-42e6-df4a-7f84d954dd5e"
      },
      "execution_count": 15,
      "outputs": [
        {
          "output_type": "execute_result",
          "data": {
            "text/plain": [
              "5"
            ]
          },
          "metadata": {},
          "execution_count": 15
        }
      ]
    },
    {
      "cell_type": "markdown",
      "source": [
        "![image.png](data:image/png;base64,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)"
      ],
      "metadata": {
        "id": "8vPdv9I_qfix"
      }
    },
    {
      "cell_type": "code",
      "source": [
        "'''#tree for the following tree\n",
        "node0=treeNode(2)\n",
        "node1=treeNode(3)\n",
        "node2=treeNode(5)\n",
        "node3=treeNode(1)\n",
        "node4=treeNode(3)\n",
        "node5=treeNode(7)\n",
        "node6=treeNode(4)\n",
        "node7=treeNode(6)\n",
        "node8=treeNode(8)'''\n",
        "\n"
      ],
      "metadata": {
        "id": "NI6OLADmqY2U",
        "colab": {
          "base_uri": "https://localhost:8080/",
          "height": 55
        },
        "outputId": "860cfac2-5591-4ab4-cfa3-b0dfbbce0c8e"
      },
      "execution_count": 16,
      "outputs": [
        {
          "output_type": "execute_result",
          "data": {
            "text/plain": [
              "'#tree for the following tree\\nnode0=treeNode(2)\\nnode1=treeNode(3)\\nnode2=treeNode(5)\\nnode3=treeNode(1)\\nnode4=treeNode(3)\\nnode5=treeNode(7)\\nnode6=treeNode(4)\\nnode7=treeNode(6)\\nnode8=treeNode(8)'"
            ],
            "application/vnd.google.colaboratory.intrinsic+json": {
              "type": "string"
            }
          },
          "metadata": {},
          "execution_count": 16
        }
      ]
    },
    {
      "cell_type": "markdown",
      "source": [
        "This manual method may be inconvinient therefor euse thr tuple"
      ],
      "metadata": {
        "id": "ly0qNAXKriyW"
      }
    },
    {
      "cell_type": "code",
      "source": [
        "tree_tuple=((1,3,None),2,((None,3,4),5,(6,7,8)))"
      ],
      "metadata": {
        "id": "0RNikFCRqugz"
      },
      "execution_count": 17,
      "outputs": []
    },
    {
      "cell_type": "markdown",
      "source": [
        "When a function call itself inside it is known as recursion\n",
        "\n",
        "\n",
        "class treeNode():\n",
        "\n",
        "  def __init__(self,key):\n",
        "\n",
        "    self.key=key\n",
        "\n",
        "    self.left=None\n",
        "\n",
        "    self.right=None\n"
      ],
      "metadata": {
        "id": "oPeS0dK8syP1"
      }
    },
    {
      "cell_type": "code",
      "source": [
        "def parse_tuple(data):\n",
        "  print(data)\n",
        "  if isinstance( data,tuple) and len(data)==3:#if data is type of tuple and___\n",
        "    node=treeNode(data[1])#setting the root as 2,,\n",
        "    node.left=parse_tuple(data[0])#(1,3,None),,\n",
        "    node.right=parse_tuple(data[2])#((None,3,4),5,(6,7,8))),,\n",
        "  elif data == None:\n",
        "    node = None #here((1,3,None)\n",
        "  else:\n",
        "    node=treeNode(data)#simply create a node as 1  ||| this is the termination condition for the tree\n",
        "  return node"
      ],
      "metadata": {
        "id": "kmal1FL6sg3j"
      },
      "execution_count": 18,
      "outputs": []
    },
    {
      "cell_type": "code",
      "source": [
        " tree2=parse_tuple(tree_tuple)"
      ],
      "metadata": {
        "colab": {
          "base_uri": "https://localhost:8080/"
        },
        "id": "u0e_ea-lwDdV",
        "outputId": "45b1b967-827f-404c-bfeb-5eed0c9d28ef"
      },
      "execution_count": 19,
      "outputs": [
        {
          "output_type": "stream",
          "name": "stdout",
          "text": [
            "((1, 3, None), 2, ((None, 3, 4), 5, (6, 7, 8)))\n",
            "(1, 3, None)\n",
            "1\n",
            "None\n",
            "((None, 3, 4), 5, (6, 7, 8))\n",
            "(None, 3, 4)\n",
            "None\n",
            "4\n",
            "(6, 7, 8)\n",
            "6\n",
            "8\n"
          ]
        }
      ]
    },
    {
      "cell_type": "code",
      "source": [
        "tree2.key"
      ],
      "metadata": {
        "colab": {
          "base_uri": "https://localhost:8080/"
        },
        "id": "4WhqVki6wWXX",
        "outputId": "4267fc6e-1faf-44d3-8e72-ceaf3edea536"
      },
      "execution_count": 20,
      "outputs": [
        {
          "output_type": "execute_result",
          "data": {
            "text/plain": [
              "2"
            ]
          },
          "metadata": {},
          "execution_count": 20
        }
      ]
    },
    {
      "cell_type": "code",
      "source": [
        "tree2.left.key, tree2.right.key\n",
        "\n"
      ],
      "metadata": {
        "colab": {
          "base_uri": "https://localhost:8080/"
        },
        "id": "h8lTGHlxwz1x",
        "outputId": "57bcb29a-5725-4047-80d5-19f30adfbe86"
      },
      "execution_count": 21,
      "outputs": [
        {
          "output_type": "execute_result",
          "data": {
            "text/plain": [
              "(3, 5)"
            ]
          },
          "metadata": {},
          "execution_count": 21
        }
      ]
    },
    {
      "cell_type": "code",
      "source": [
        "tree2.left.left.key, tree2.left.right, tree2.right.left.key, tree2.right.right.key\n"
      ],
      "metadata": {
        "colab": {
          "base_uri": "https://localhost:8080/"
        },
        "id": "xPAMoscvw33_",
        "outputId": "7134b796-a23a-487d-bdc0-00d98a631a46"
      },
      "execution_count": 22,
      "outputs": [
        {
          "output_type": "execute_result",
          "data": {
            "text/plain": [
              "(1, None, 3, 7)"
            ]
          },
          "metadata": {},
          "execution_count": 22
        }
      ]
    },
    {
      "cell_type": "code",
      "source": [
        "tree2.right.left.right.key, tree2.right.right.left.key, tree2.right.right.right.key\n"
      ],
      "metadata": {
        "colab": {
          "base_uri": "https://localhost:8080/"
        },
        "id": "3vBynpGLw5sd",
        "outputId": "2a595441-4c01-4097-c3e7-472d38a79b8a"
      },
      "execution_count": 23,
      "outputs": [
        {
          "output_type": "execute_result",
          "data": {
            "text/plain": [
              "(4, 6, 8)"
            ]
          },
          "metadata": {},
          "execution_count": 23
        }
      ]
    },
    {
      "cell_type": "markdown",
      "source": [
        "## **Let's create another helper function to display all the keys in a tree-like structure for easier visualization.**\n",
        "\n"
      ],
      "metadata": {
        "id": "ljMYwAqbdyfx"
      }
    },
    {
      "cell_type": "code",
      "source": [
        "def disply_keys(node,space='\\t',level=0):\n",
        "\n",
        "\n",
        "       #if node is empty\n",
        "       if node is None:\n",
        "        print(space*level +'0')\n",
        "        return\n",
        "\n",
        "        #if node is the leaf node\n",
        "       if node.left is None and node.right is None:\n",
        "         print(space*level + str(node.key))\n",
        "         return\n",
        "\n",
        "       #if the node has children\n",
        "       disply_keys(node.right,space,level+1)\n",
        "       print(space*level + str(node.key))\n",
        "       disply_keys(node.left,space,level+1)\n",
        "\n",
        "\n",
        "\n"
      ],
      "metadata": {
        "id": "kyI0Nbyfw9Wg"
      },
      "execution_count": 32,
      "outputs": []
    },
    {
      "cell_type": "code",
      "source": [
        "disply_keys(tree2,' ')"
      ],
      "metadata": {
        "colab": {
          "base_uri": "https://localhost:8080/"
        },
        "id": "pBVv2laqeLcF",
        "outputId": "f1bf06fb-8306-48ea-fd4a-379366cf405b"
      },
      "execution_count": 33,
      "outputs": [
        {
          "output_type": "stream",
          "name": "stdout",
          "text": [
            "   8\n",
            "  7\n",
            "   6\n",
            " 5\n",
            "   4\n",
            "  3\n",
            "   0\n",
            "2\n",
            "  0\n",
            " 3\n",
            "  1\n"
          ]
        }
      ]
    },
    {
      "cell_type": "code",
      "source": [
        "tree1_tuple=((None,3,None),2,(7,4,6))"
      ],
      "metadata": {
        "id": "1rQg6CDxfxu8"
      },
      "execution_count": 43,
      "outputs": []
    },
    {
      "cell_type": "code",
      "source": [
        "def parse_tree(data):\n",
        "\n",
        "  print(data)\n",
        "\n",
        "  if isinstance(data,tuple) and len(data)==3:\n",
        "    node=treeNode(data[1])\n",
        "    node.left=parse_tree(data[0])\n",
        "    node.right=parse_tree(data[2])\n",
        "  elif data ==None:\n",
        "    node=None\n",
        "\n",
        "  else:\n",
        "    node=treeNode(data)\n",
        "  return node"
      ],
      "metadata": {
        "id": "3nHSFe-riBZG"
      },
      "execution_count": 46,
      "outputs": []
    },
    {
      "cell_type": "code",
      "source": [
        "tree_samp=parse_tree(tree1_tuple)\n"
      ],
      "metadata": {
        "colab": {
          "base_uri": "https://localhost:8080/"
        },
        "id": "-eEV3kxRiv7D",
        "outputId": "8dbec03a-909e-4a0c-a2af-51ad6a5ec4d1"
      },
      "execution_count": 48,
      "outputs": [
        {
          "output_type": "stream",
          "name": "stdout",
          "text": [
            "((None, 3, None), 2, (7, 4, 6))\n",
            "(None, 3, None)\n",
            "None\n",
            "None\n",
            "(7, 4, 6)\n",
            "7\n",
            "6\n"
          ]
        }
      ]
    },
    {
      "cell_type": "code",
      "source": [
        "disply_keys(tree_samp)"
      ],
      "metadata": {
        "colab": {
          "base_uri": "https://localhost:8080/"
        },
        "id": "ScNBN9t_jVOX",
        "outputId": "c551e22e-1711-42fd-ae05-a865bcf7eae1"
      },
      "execution_count": 49,
      "outputs": [
        {
          "output_type": "stream",
          "name": "stdout",
          "text": [
            "\t\t6\n",
            "\t4\n",
            "\t\t7\n",
            "2\n",
            "\t3\n"
          ]
        }
      ]
    },
    {
      "cell_type": "code",
      "source": [],
      "metadata": {
        "id": "joN5vRnwjpFk"
      },
      "execution_count": null,
      "outputs": []
    }
  ]
}