{
  "nbformat": 4,
  "nbformat_minor": 0,
  "metadata": {
    "colab": {
      "provenance": [],
      "authorship_tag": "ABX9TyP3uZ/x2aK0YLcLtuh8qJd/",
      "include_colab_link": true
    },
    "kernelspec": {
      "name": "python3",
      "display_name": "Python 3"
    },
    "language_info": {
      "name": "python"
    }
  },
  "cells": [
    {
      "cell_type": "markdown",
      "metadata": {
        "id": "view-in-github",
        "colab_type": "text"
      },
      "source": [
        "<a href=\"https://colab.research.google.com/github/Ru1chi/DSA/blob/main/DSA_till_stack.ipynb\" target=\"_parent\"><img src=\"https://colab.research.google.com/assets/colab-badge.svg\" alt=\"Open In Colab\"/></a>"
      ]
    },
    {
      "cell_type": "markdown",
      "source": [
        "### **Problems**"
      ],
      "metadata": {
        "id": "lBnMd2uASKGQ"
      }
    },
    {
      "cell_type": "code",
      "execution_count": null,
      "metadata": {
        "colab": {
          "base_uri": "https://localhost:8080/"
        },
        "id": "2wzMOKYOJaiV",
        "outputId": "2d0e1a9d-d62d-425d-af9e-a70dd4021250"
      },
      "outputs": [
        {
          "output_type": "stream",
          "name": "stdout",
          "text": [
            "15\n",
            "120\n"
          ]
        }
      ],
      "source": [
        "l=[1,2,3,4,5]#this is considered to be an array\n",
        "sum=0\n",
        "for i in l:\n",
        "  sum=sum+i\n",
        "print(sum)\n",
        "\n",
        "product=1\n",
        "for i in l:\n",
        "  product=product*i\n",
        "print(product)\n",
        "\n",
        "\n",
        "#o(n)"
      ]
    },
    {
      "cell_type": "code",
      "source": [
        "for i in l:\n",
        "  for j in l:\n",
        "    print('({},{})'.format(i,j))\n",
        "\n",
        "\n",
        "#o(n^2)"
      ],
      "metadata": {
        "colab": {
          "base_uri": "https://localhost:8080/"
        },
        "id": "mwUCakoVtfnv",
        "outputId": "f9df3b48-5e09-485e-869d-7cab6d9de0c8"
      },
      "execution_count": null,
      "outputs": [
        {
          "output_type": "stream",
          "name": "stdout",
          "text": [
            "(1,1)\n",
            "(1,2)\n",
            "(1,3)\n",
            "(1,4)\n",
            "(1,5)\n",
            "(2,1)\n",
            "(2,2)\n",
            "(2,3)\n",
            "(2,4)\n",
            "(2,5)\n",
            "(3,1)\n",
            "(3,2)\n",
            "(3,3)\n",
            "(3,4)\n",
            "(3,5)\n",
            "(4,1)\n",
            "(4,2)\n",
            "(4,3)\n",
            "(4,4)\n",
            "(4,5)\n",
            "(5,1)\n",
            "(5,2)\n",
            "(5,3)\n",
            "(5,4)\n",
            "(5,5)\n"
          ]
        }
      ]
    },
    {
      "cell_type": "code",
      "source": [
        "#type conversion-integer to string\n",
        "def inttostr(i):\n",
        "  digits='0123456789'\n",
        "  if i==0:\n",
        "    return 0\n",
        "  result=\" \"\n",
        "\n",
        "  while i>0:\n",
        "    result=digits[i%10]+result\n",
        "    i=i//10\n",
        "  return result\n",
        "\n",
        "print(inttostr(123))\n",
        "type(inttostr(123))"
      ],
      "metadata": {
        "colab": {
          "base_uri": "https://localhost:8080/"
        },
        "id": "ekh8STNjuC8C",
        "outputId": "f7066124-1124-405b-e3c1-904d488365bd"
      },
      "execution_count": null,
      "outputs": [
        {
          "output_type": "stream",
          "name": "stdout",
          "text": [
            "123 \n"
          ]
        },
        {
          "output_type": "execute_result",
          "data": {
            "text/plain": [
              "str"
            ]
          },
          "metadata": {},
          "execution_count": 8
        }
      ]
    },
    {
      "cell_type": "code",
      "source": [
        "n = 10\n",
        "i = j = k = 0\n",
        "\n",
        "for i in range(n // 2, n + 1):         # i from n/2 to n\n",
        "    j = 2\n",
        "    while j <= n:                      # j doubles each time\n",
        "        k += n // 2                    # add n/2 to k\n",
        "        j *= 2\n",
        "\n",
        "print(k)\n"
      ],
      "metadata": {
        "colab": {
          "base_uri": "https://localhost:8080/"
        },
        "id": "sRWJlqzQxwzz",
        "outputId": "63abb47a-0bbe-4bf0-ae0a-c15c76117fc0"
      },
      "execution_count": null,
      "outputs": [
        {
          "output_type": "stream",
          "name": "stdout",
          "text": [
            "90\n"
          ]
        }
      ]
    },
    {
      "cell_type": "code",
      "source": [],
      "metadata": {
        "id": "EDJ2K99l0myA"
      },
      "execution_count": null,
      "outputs": []
    },
    {
      "cell_type": "code",
      "source": [],
      "metadata": {
        "id": "8Gv6_euh3UFj"
      },
      "execution_count": null,
      "outputs": []
    },
    {
      "cell_type": "code",
      "source": [],
      "metadata": {
        "id": "7UkVLBlh3UCA"
      },
      "execution_count": null,
      "outputs": []
    },
    {
      "cell_type": "code",
      "source": [],
      "metadata": {
        "id": "KikWzir23T_g"
      },
      "execution_count": null,
      "outputs": []
    },
    {
      "cell_type": "code",
      "source": [],
      "metadata": {
        "id": "DbI3Y4Z53T9G"
      },
      "execution_count": null,
      "outputs": []
    },
    {
      "cell_type": "markdown",
      "source": [
        "### **Linked List**"
      ],
      "metadata": {
        "id": "1dPx71gU3Umw"
      }
    },
    {
      "cell_type": "code",
      "source": [
        "class Node:\n",
        "\n",
        "  def __init__(self,value):\n",
        "    self.data=value\n",
        "    self.next=None\n",
        "\n",
        "\n"
      ],
      "metadata": {
        "id": "yP7EbuS63XYF"
      },
      "execution_count": null,
      "outputs": []
    },
    {
      "cell_type": "code",
      "source": [
        "a=Node(1)\n",
        "b=Node(2)\n",
        "c=Node(3)"
      ],
      "metadata": {
        "id": "oAe1xdtU3mgq"
      },
      "execution_count": null,
      "outputs": []
    },
    {
      "cell_type": "code",
      "source": [
        "a.next=b#this is mannual way to make it linked list\n",
        "b.next=c"
      ],
      "metadata": {
        "id": "c_yXeQT-4RjK"
      },
      "execution_count": null,
      "outputs": []
    },
    {
      "cell_type": "code",
      "source": [
        "print(a)#a is an object which has 2 attributes data,value"
      ],
      "metadata": {
        "colab": {
          "base_uri": "https://localhost:8080/"
        },
        "id": "q27O8nQi3oU1",
        "outputId": "6e16491e-8d9a-40be-ffcd-e6400325c459"
      },
      "execution_count": null,
      "outputs": [
        {
          "output_type": "stream",
          "name": "stdout",
          "text": [
            "<__main__.Node object at 0x7b673d01aed0>\n"
          ]
        }
      ]
    },
    {
      "cell_type": "code",
      "source": [
        "class Node:\n",
        "\n",
        "  def __init__(self,value):\n",
        "    self.data=value\n",
        "    self.next=None"
      ],
      "metadata": {
        "id": "HDO0cnSz3vST"
      },
      "execution_count": null,
      "outputs": []
    },
    {
      "cell_type": "code",
      "source": [
        "class LinkedList:\n",
        "\n",
        "  def __init__(self):\n",
        "\n",
        "    #empty linked list=0 nodes\n",
        "    self.head=None\n",
        "    self.n= 0 #count for nodes in lnked list\n",
        "\n",
        "  def __len__(self):#for the len of LL\n",
        "    return self.n\n",
        "\n",
        "  def insert_head(self,value):\n",
        "    #new node\n",
        "    new_node=Node(value)\n",
        "\n",
        "    #create connection\n",
        "    new_node.next=self.head\n",
        "\n",
        "    #reassign\n",
        "    self.head=new_node\n",
        "\n",
        "    #increment n\n",
        "    self.n=self.n+1\n",
        "\n",
        "  def traverse(self):\n",
        "\n",
        "    curr=self.head#start of loop\n",
        "\n",
        "    while curr!=None:\n",
        "      print(curr.data)\n",
        "      curr=curr.next\n",
        "\n",
        "  def __str__(self):\n",
        "\n",
        "    curr=self.head\n",
        "    result=''\n",
        "\n",
        "    while curr!=None:\n",
        "      result=result+str(curr.data)+ ' '\n",
        "      curr=curr.next\n",
        "    return result[:-1]#used the slicing to not to print last 2 arrows\n",
        "\n",
        "  def append(self,value):\n",
        "\n",
        "    #create new_node\n",
        "    new_node=Node(value)\n",
        "\n",
        "    #if node is empty\n",
        "    if self.head==None:\n",
        "      self.head=new_node\n",
        "      self.n=self.n+1\n",
        "      return\n",
        "\n",
        "    curr=self.head\n",
        "\n",
        "    while curr.next != None:\n",
        "      curr=curr.next\n",
        "\n",
        "    #you are at the last node\n",
        "    curr.next=new_node\n",
        "    self.n=self.n+1\n",
        "\n",
        "  def insert_after(self,after,value):\n",
        "\n",
        "    new_node=Node(value)\n",
        "\n",
        "    curr=self.head\n",
        "\n",
        "    #break the connection\n",
        "    while curr != None:\n",
        "      if curr.data == after:\n",
        "        break\n",
        "      curr=curr.next\n",
        "\n",
        "    #make the new connection\n",
        "    #case 1 break =  item is found -curr is not None\n",
        "    if curr != None:\n",
        "      new_node.next=curr.next\n",
        "      curr.next=new_node\n",
        "      self.n=self.n+1\n",
        "\n",
        "    else:\n",
        "      return \"Item not found in the linked list.\"\n",
        "    #case 2 no break(loop run fully)- item is not found-curr=None\n",
        "\n",
        "  def clear(self):\n",
        "    self.head=None\n",
        "    self.n=0\n",
        "\n",
        "  def delete_head(self):\n",
        "    self.head=self.head.next\n",
        "    self.n=self.n-1\n",
        "\n",
        "  def delete_tail(self):\n",
        "\n",
        "    curr=self.head\n",
        "\n",
        "    #if only 1 item\n",
        "    if curr.next==None:\n",
        "      self.head=None\n",
        "      self.n=self.n-1\n",
        "      return\n",
        "\n",
        "    while curr.next.next !=None:\n",
        "      curr=curr.next\n",
        "\n",
        "    #curr is 2nd last node\n",
        "    curr.next=None\n",
        "    self.n=self.n-1\n",
        "\n",
        "  def remove(self,value):\n",
        "\n",
        "    if self.head.data==value:\n",
        "      #you want to remove the head node\n",
        "      return self.delete_head()\n",
        "\n",
        "    curr=self.head\n",
        "\n",
        "    while curr.next!=None:\n",
        "      if curr.next.data==value:\n",
        "        break\n",
        "      curr=curr.next\n",
        "\n",
        "    #case 1 -item found=\n",
        "    if curr.next==None:\n",
        "\n",
        "\n",
        "    #case 2 -item not found\n",
        "     return \"Item not found in the linked list.\"\n",
        "    else:\n",
        "      curr.next=curr.next.next\n",
        "\n",
        "  def search(self,item):\n",
        "\n",
        "    curr=self.head\n",
        "    pos=0\n",
        "\n",
        "    while curr != None:\n",
        "      if curr.data==item:\n",
        "        return pos\n",
        "      curr=curr.next\n",
        "      pos=pos + 1\n",
        "\n",
        "    return \"Not Found\"\n",
        "\n",
        "  def __getitem__(self,index):\n",
        "\n",
        "    curr=self.head\n",
        "    pos=0\n",
        "\n",
        "    while curr != None:\n",
        "      if pos == index:\n",
        "        return curr.data\n",
        "      curr=curr.next\n",
        "      pos=pos+1\n",
        "\n",
        "  def replace_max(self,value):\n",
        "\n",
        "    temp=self.head\n",
        "    max=temp\n",
        "\n",
        "    while temp != None:\n",
        "      if temp.data>max.data:\n",
        "        max=temp\n",
        "      temp=temp.next\n",
        "\n",
        "    max.data=value\n",
        "\n",
        "  def sum_of_odds(self):\n",
        "    temp=self.head\n",
        "    counter=0\n",
        "    result=0\n",
        "\n",
        "    while temp != None:\n",
        "      if counter%2 !=0:\n",
        "        result=result+temp.data\n",
        "      counter+=1\n",
        "      temp=temp.next\n",
        "    print(result)\n",
        "\n",
        "  def reverse(self):\n",
        "\n",
        "    prev_node=None\n",
        "    curr_node=self.head\n",
        "\n",
        "    while curr_node != None:\n",
        "      next_node=curr_node.next #before breaking the connection store next to somwhere else\n",
        "      curr_node.next=prev_node\n",
        "      prev_node=curr_node\n",
        "      curr_node=next_node\n",
        "\n",
        "    self.head=prev_node\n",
        "\n",
        "\n",
        "  def change_sent(self):\n",
        "\n",
        "    temp=self.head\n",
        "\n",
        "    while temp != None:\n",
        "      if temp.data == \"*\" or temp.data ==\"/\":\n",
        "        temp.data=\" \"\n",
        "\n",
        "        if temp.next.data ==\"*\" or temp.next.data ==\"/\":\n",
        "          temp.next.next.data=temp.next.next.data.upper()\n",
        "          temp.next=temp.next.next#it is used to skip the * character\n",
        "\n",
        "      temp=temp.next\n",
        "\n",
        "\n",
        "\n"
      ],
      "metadata": {
        "id": "CnI6bhqt4mTi"
      },
      "execution_count": null,
      "outputs": []
    },
    {
      "cell_type": "code",
      "source": [
        "\n",
        "l=LinkedList()"
      ],
      "metadata": {
        "id": "ckY_jDY35GdM"
      },
      "execution_count": null,
      "outputs": []
    },
    {
      "cell_type": "code",
      "source": [
        "print(l)"
      ],
      "metadata": {
        "colab": {
          "base_uri": "https://localhost:8080/"
        },
        "id": "w9LBXc2C5I6P",
        "outputId": "0bb4aa1d-80b6-48c1-b556-ec88eb1cfb9f"
      },
      "execution_count": null,
      "outputs": [
        {
          "output_type": "stream",
          "name": "stdout",
          "text": [
            "\n"
          ]
        }
      ]
    },
    {
      "cell_type": "code",
      "source": [
        "len(l)# length of LL is num of nodes in LL"
      ],
      "metadata": {
        "colab": {
          "base_uri": "https://localhost:8080/"
        },
        "id": "-rC6FNbt5KKo",
        "outputId": "286850ed-1da5-463c-d39a-f9feb84590b3"
      },
      "execution_count": null,
      "outputs": [
        {
          "output_type": "execute_result",
          "data": {
            "text/plain": [
              "0"
            ]
          },
          "metadata": {},
          "execution_count": 12
        }
      ]
    },
    {
      "cell_type": "code",
      "source": [
        "l.insert_head(1)\n",
        "l.insert_head(2)\n",
        "l.insert_head(3)\n",
        "l.insert_head(4)"
      ],
      "metadata": {
        "id": "UVS6S1Fy51vr"
      },
      "execution_count": null,
      "outputs": []
    },
    {
      "cell_type": "code",
      "source": [
        "l.traverse()#this is showing reverse becoz the 1st value gone iside is head which is 1"
      ],
      "metadata": {
        "colab": {
          "base_uri": "https://localhost:8080/"
        },
        "id": "UllC-Kq77VC8",
        "outputId": "12233af7-9137-4895-f41d-4f4c18900409"
      },
      "execution_count": null,
      "outputs": [
        {
          "output_type": "stream",
          "name": "stdout",
          "text": [
            "4\n",
            "3\n",
            "2\n",
            "1\n",
            "4\n",
            "3\n",
            "2\n",
            "1\n"
          ]
        }
      ]
    },
    {
      "cell_type": "code",
      "source": [
        "print(l)"
      ],
      "metadata": {
        "colab": {
          "base_uri": "https://localhost:8080/"
        },
        "id": "m9a8qOcz8kM6",
        "outputId": "cd3c02c1-d975-414d-c24d-e7d76fec6315"
      },
      "execution_count": null,
      "outputs": [
        {
          "output_type": "stream",
          "name": "stdout",
          "text": [
            "4->3->2->1->4->3->2->1\n"
          ]
        }
      ]
    },
    {
      "cell_type": "code",
      "source": [
        "l.append(5)#this now works for the empty list\n"
      ],
      "metadata": {
        "id": "_IxeikjSBHgh"
      },
      "execution_count": null,
      "outputs": []
    },
    {
      "cell_type": "code",
      "source": [
        "print(l)"
      ],
      "metadata": {
        "colab": {
          "base_uri": "https://localhost:8080/"
        },
        "id": "o6eXUhQ3DZot",
        "outputId": "74ad62c1-1fdc-45bd-bb9b-f5f2b96a4879"
      },
      "execution_count": null,
      "outputs": [
        {
          "output_type": "stream",
          "name": "stdout",
          "text": [
            "4->3->2->1->4->3->2->1->5\n"
          ]
        }
      ]
    },
    {
      "cell_type": "code",
      "source": [
        "l.insert_after(3,6)"
      ],
      "metadata": {
        "id": "00qQ08fAELN1"
      },
      "execution_count": null,
      "outputs": []
    },
    {
      "cell_type": "code",
      "source": [
        "print(l)"
      ],
      "metadata": {
        "colab": {
          "base_uri": "https://localhost:8080/"
        },
        "id": "41F8K1OQJ3VX",
        "outputId": "fe7f3b7d-e4f7-43dd-8c67-47824ec9fc07"
      },
      "execution_count": null,
      "outputs": [
        {
          "output_type": "stream",
          "name": "stdout",
          "text": [
            "4->3->6->2->1\n"
          ]
        }
      ]
    },
    {
      "cell_type": "code",
      "source": [
        "l.insert_after(10,12)"
      ],
      "metadata": {
        "colab": {
          "base_uri": "https://localhost:8080/",
          "height": 35
        },
        "id": "l5Bt3vvkJ4nP",
        "outputId": "94a9d4a3-8b91-4eb6-a147-b6ca7c8a4cba"
      },
      "execution_count": null,
      "outputs": [
        {
          "output_type": "execute_result",
          "data": {
            "text/plain": [
              "'Item not found in the linked list.'"
            ],
            "application/vnd.google.colaboratory.intrinsic+json": {
              "type": "string"
            }
          },
          "metadata": {},
          "execution_count": 80
        }
      ]
    },
    {
      "cell_type": "code",
      "source": [
        "l.clear()"
      ],
      "metadata": {
        "id": "D6PBexVjJ_hM"
      },
      "execution_count": null,
      "outputs": []
    },
    {
      "cell_type": "code",
      "source": [
        "print(l)"
      ],
      "metadata": {
        "colab": {
          "base_uri": "https://localhost:8080/"
        },
        "id": "XgCm_tKkLFx9",
        "outputId": "2da6b1b3-5268-42b7-ceed-f8dec164f7fe"
      },
      "execution_count": null,
      "outputs": [
        {
          "output_type": "stream",
          "name": "stdout",
          "text": [
            "\n"
          ]
        }
      ]
    },
    {
      "cell_type": "code",
      "source": [
        "l.delete_head()"
      ],
      "metadata": {
        "id": "G8jFNBCXLPeP"
      },
      "execution_count": null,
      "outputs": []
    },
    {
      "cell_type": "code",
      "source": [
        "print(l)"
      ],
      "metadata": {
        "colab": {
          "base_uri": "https://localhost:8080/"
        },
        "id": "qBbcp3P4LpBt",
        "outputId": "31ae06ca-a5a2-4fbc-bab1-56fed0350bd2"
      },
      "execution_count": null,
      "outputs": [
        {
          "output_type": "stream",
          "name": "stdout",
          "text": [
            "3->2->1\n"
          ]
        }
      ]
    },
    {
      "cell_type": "code",
      "source": [
        "l.delete_tail()"
      ],
      "metadata": {
        "id": "9iYZxnY7LqCj"
      },
      "execution_count": null,
      "outputs": []
    },
    {
      "cell_type": "code",
      "source": [
        "print(l)"
      ],
      "metadata": {
        "colab": {
          "base_uri": "https://localhost:8080/"
        },
        "id": "Qnz8VbtyMuVv",
        "outputId": "639e5e1a-466b-46e8-9ab4-e95b30367003"
      },
      "execution_count": null,
      "outputs": [
        {
          "output_type": "stream",
          "name": "stdout",
          "text": [
            "4->3->2\n"
          ]
        }
      ]
    },
    {
      "cell_type": "code",
      "source": [
        "l.remove(3)"
      ],
      "metadata": {
        "id": "kNRNNzdHMva9"
      },
      "execution_count": null,
      "outputs": []
    },
    {
      "cell_type": "code",
      "source": [
        "print(l)"
      ],
      "metadata": {
        "colab": {
          "base_uri": "https://localhost:8080/"
        },
        "id": "wZ6GNiMIO_ko",
        "outputId": "00148761-90da-42ba-ae94-33bb9f8ad3fa"
      },
      "execution_count": null,
      "outputs": [
        {
          "output_type": "stream",
          "name": "stdout",
          "text": [
            "4->2->1\n"
          ]
        }
      ]
    },
    {
      "cell_type": "code",
      "source": [
        "l.remove(4)#but it is available"
      ],
      "metadata": {
        "id": "yw1TkDgiPAh5"
      },
      "execution_count": null,
      "outputs": []
    },
    {
      "cell_type": "code",
      "source": [
        "print(l)"
      ],
      "metadata": {
        "colab": {
          "base_uri": "https://localhost:8080/"
        },
        "id": "7xDBdxBGPC-o",
        "outputId": "04f47209-6684-48eb-aebf-fc47fa84124d"
      },
      "execution_count": null,
      "outputs": [
        {
          "output_type": "stream",
          "name": "stdout",
          "text": [
            "3->2->1\n"
          ]
        }
      ]
    },
    {
      "cell_type": "code",
      "source": [
        "l.search(1)# it gives the index based on the given item by the user"
      ],
      "metadata": {
        "id": "pZZHyYSBPrjF",
        "colab": {
          "base_uri": "https://localhost:8080/"
        },
        "outputId": "1c7ae362-7e2b-4a2e-e0b7-100cf46af934"
      },
      "execution_count": null,
      "outputs": [
        {
          "output_type": "execute_result",
          "data": {
            "text/plain": [
              "3"
            ]
          },
          "metadata": {},
          "execution_count": 7
        }
      ]
    },
    {
      "cell_type": "code",
      "source": [
        "print(l)"
      ],
      "metadata": {
        "colab": {
          "base_uri": "https://localhost:8080/"
        },
        "id": "AeYRHTrgZqlZ",
        "outputId": "d624b057-df70-447d-fcbd-f97cee9300cb"
      },
      "execution_count": null,
      "outputs": [
        {
          "output_type": "stream",
          "name": "stdout",
          "text": [
            "4->3->2->1\n"
          ]
        }
      ]
    },
    {
      "cell_type": "code",
      "source": [
        "print(l)"
      ],
      "metadata": {
        "colab": {
          "base_uri": "https://localhost:8080/"
        },
        "id": "VbeAMDPKZsVr",
        "outputId": "871e04fc-ebe5-4268-8268-0a0b2935fd4a"
      },
      "execution_count": null,
      "outputs": [
        {
          "output_type": "stream",
          "name": "stdout",
          "text": [
            "4->3->2->1\n"
          ]
        }
      ]
    },
    {
      "cell_type": "code",
      "source": [
        "l[0]"
      ],
      "metadata": {
        "colab": {
          "base_uri": "https://localhost:8080/"
        },
        "id": "OiT9KTosa21F",
        "outputId": "d72e7a29-7336-4eba-9302-29ed80eeac8c"
      },
      "execution_count": null,
      "outputs": [
        {
          "output_type": "execute_result",
          "data": {
            "text/plain": [
              "4"
            ]
          },
          "metadata": {},
          "execution_count": 15
        }
      ]
    },
    {
      "cell_type": "code",
      "source": [
        "l.replace_max(10)"
      ],
      "metadata": {
        "id": "Qyf9XSLkgHaO"
      },
      "execution_count": null,
      "outputs": []
    },
    {
      "cell_type": "code",
      "source": [
        "print(l)"
      ],
      "metadata": {
        "colab": {
          "base_uri": "https://localhost:8080/"
        },
        "id": "fW4SXnmngawd",
        "outputId": "7be4a0ff-eb1e-4860-9280-6ae5f1b59185"
      },
      "execution_count": null,
      "outputs": [
        {
          "output_type": "stream",
          "name": "stdout",
          "text": [
            "10->3->2->1\n"
          ]
        }
      ]
    },
    {
      "cell_type": "code",
      "source": [
        "print(l.sum_of_odds())"
      ],
      "metadata": {
        "colab": {
          "base_uri": "https://localhost:8080/"
        },
        "id": "4Se5SRALhfqt",
        "outputId": "d11668e9-20d8-4e9f-ac27-b7f93a18b9cc"
      },
      "execution_count": null,
      "outputs": [
        {
          "output_type": "stream",
          "name": "stdout",
          "text": [
            "None\n"
          ]
        }
      ]
    },
    {
      "cell_type": "code",
      "source": [
        "ll=LinkedList()"
      ],
      "metadata": {
        "id": "mHkX-ojSiaWt"
      },
      "execution_count": null,
      "outputs": []
    },
    {
      "cell_type": "code",
      "source": [
        "ll.insert_head(2)\n",
        "ll.insert_head(3)\n",
        "ll.insert_head(4)\n",
        "ll.insert_head(5)\n",
        "ll.insert_head(6)"
      ],
      "metadata": {
        "id": "OW81wdjYhjLB"
      },
      "execution_count": null,
      "outputs": []
    },
    {
      "cell_type": "code",
      "source": [
        "print(ll)"
      ],
      "metadata": {
        "colab": {
          "base_uri": "https://localhost:8080/"
        },
        "id": "Yzb9sAmPiU_O",
        "outputId": "6d14963e-641a-49ec-f764-b9ad565bb6d5"
      },
      "execution_count": null,
      "outputs": [
        {
          "output_type": "stream",
          "name": "stdout",
          "text": [
            "6->5->4->3->2\n"
          ]
        }
      ]
    },
    {
      "cell_type": "code",
      "source": [
        "ll.sum_of_odds()"
      ],
      "metadata": {
        "colab": {
          "base_uri": "https://localhost:8080/"
        },
        "id": "kiVMG4gEh-7C",
        "outputId": "e12436cf-287e-44cd-b9b1-ea91d485dd7e"
      },
      "execution_count": null,
      "outputs": [
        {
          "output_type": "stream",
          "name": "stdout",
          "text": [
            "8\n"
          ]
        }
      ]
    },
    {
      "cell_type": "code",
      "source": [
        "ll.reverse()"
      ],
      "metadata": {
        "id": "vc9FCh0emL0s"
      },
      "execution_count": null,
      "outputs": []
    },
    {
      "cell_type": "code",
      "source": [
        "print(ll)"
      ],
      "metadata": {
        "colab": {
          "base_uri": "https://localhost:8080/"
        },
        "id": "f5gt2yJ1nLVj",
        "outputId": "1f8c84a6-89a8-47ac-f9a8-6d2f8b83ab9e"
      },
      "execution_count": null,
      "outputs": [
        {
          "output_type": "stream",
          "name": "stdout",
          "text": [
            "2->3->4->5->6\n"
          ]
        }
      ]
    },
    {
      "cell_type": "code",
      "source": [
        "word_list=LinkedList()"
      ],
      "metadata": {
        "id": "NTfrnPX1aSbt"
      },
      "execution_count": null,
      "outputs": []
    },
    {
      "cell_type": "code",
      "source": [
        "word_list.append(\"T\")\n",
        "word_list.append(\"h\")\n",
        "word_list.append(\"e\")\n",
        "word_list.append(\"/\")\n",
        "word_list.append(\"*\")\n",
        "word_list.append(\"s\")\n",
        "word_list.append(\"k\")\n",
        "word_list.append(\"y\")\n",
        "word_list.append(\"*\")\n",
        "word_list.append(\"i\")\n",
        "word_list.append(\"s\")\n",
        "word_list.append(\"/\")\n",
        "word_list.append(\"/\")\n",
        "word_list.append(\"b\")\n",
        "word_list.append(\"l\")\n",
        "word_list.append(\"u\")\n",
        "word_list.append(\"e\")\n"
      ],
      "metadata": {
        "id": "hRp1S9r0aW22"
      },
      "execution_count": null,
      "outputs": []
    },
    {
      "cell_type": "code",
      "source": [
        "\n",
        "print(word_list)"
      ],
      "metadata": {
        "colab": {
          "base_uri": "https://localhost:8080/"
        },
        "id": "Dngro14waWyi",
        "outputId": "1387abb6-e76c-480a-aaa7-600d4c5a1239"
      },
      "execution_count": null,
      "outputs": [
        {
          "output_type": "stream",
          "name": "stdout",
          "text": [
            "T h e / * s k y * i s / / b l u e\n"
          ]
        }
      ]
    },
    {
      "cell_type": "code",
      "source": [
        "word_list.change_sent()"
      ],
      "metadata": {
        "id": "XNtL2WzxaWtS"
      },
      "execution_count": null,
      "outputs": []
    },
    {
      "cell_type": "code",
      "source": [
        "print(word_list)#this is first rule application and 2nd is also done as S and B are capital"
      ],
      "metadata": {
        "colab": {
          "base_uri": "https://localhost:8080/"
        },
        "id": "dfKo8iFsfJ-g",
        "outputId": "0581119e-ea0d-4327-9128-3207d2f9f3d5"
      },
      "execution_count": null,
      "outputs": [
        {
          "output_type": "stream",
          "name": "stdout",
          "text": [
            "T h e   S k y   i s   B l u e\n"
          ]
        }
      ]
    },
    {
      "cell_type": "code",
      "source": [],
      "metadata": {
        "id": "BIIXAtJ4hBT9"
      },
      "execution_count": null,
      "outputs": []
    },
    {
      "cell_type": "markdown",
      "source": [
        "### **Sample questions based on Linked List**"
      ],
      "metadata": {
        "id": "c604EH9NcFI_"
      }
    },
    {
      "cell_type": "code",
      "source": [
        "Q) What is the output of the following function when the head node of the following llis passed as input?\n",
        "1->2->3->4->5->"
      ],
      "metadata": {
        "id": "MGXuShH0a4GT"
      },
      "execution_count": null,
      "outputs": []
    },
    {
      "cell_type": "code",
      "source": [
        "def fun(head):\n",
        "  if(head== None):\n",
        "    return\n",
        "  if head.next.next != None:\n",
        "    print(head.data,' ',end='')\n",
        "    fun(head.next)\n",
        "  print(head.data,' ',end='')"
      ],
      "metadata": {
        "id": "Vj8At7LscpDt"
      },
      "execution_count": null,
      "outputs": []
    },
    {
      "cell_type": "code",
      "source": [
        "#ans\n",
        "1 2 3 4 3 2 1\n"
      ],
      "metadata": {
        "id": "YsYRkVNMdEE1"
      },
      "execution_count": null,
      "outputs": []
    },
    {
      "cell_type": "code",
      "source": [
        "Q) write a python program to find the max value in LL and replace it with a given value"
      ],
      "metadata": {
        "id": "dXlnNk19e5Y2"
      },
      "execution_count": null,
      "outputs": []
    },
    {
      "cell_type": "code",
      "source": [
        "def replace_max(self,value):\n",
        "\n",
        "    temp=self.head\n",
        "    max=temp\n",
        "\n",
        "    while temp != None:\n",
        "      if temp.data>max.data:\n",
        "        max=temp\n",
        "      temp=temp.next\n",
        "\n",
        "    max.data=value\n"
      ],
      "metadata": {
        "id": "T3a6f-FBfCo_"
      },
      "execution_count": null,
      "outputs": []
    },
    {
      "cell_type": "code",
      "source": [
        "Q) find sum of num at odd indexes in ll"
      ],
      "metadata": {
        "id": "xxEbtTibgfVu"
      },
      "execution_count": null,
      "outputs": []
    },
    {
      "cell_type": "code",
      "source": [
        "def sum_of_odds(self):\n",
        "    temp=self.head\n",
        "    counter=0\n",
        "    result=0\n",
        "\n",
        "    while temp != None:\n",
        "      if counter%2 !=0:\n",
        "        result=result+temp.data\n",
        "      counter+=1\n",
        "      temp=temp.next\n",
        "    print(result)"
      ],
      "metadata": {
        "id": "LFbZNPFziv0-"
      },
      "execution_count": null,
      "outputs": []
    },
    {
      "cell_type": "code",
      "source": [
        "Q)reverse ll containing integer dataclass_transform\n"
      ],
      "metadata": {
        "id": "QvLX5Vb-iwsx"
      },
      "execution_count": null,
      "outputs": []
    },
    {
      "cell_type": "code",
      "source": [
        "def reverse(self):\n",
        "\n",
        "    prev_node=None\n",
        "    curr_node=self.head\n",
        "\n",
        "    while curr_node != None:\n",
        "      next_node=curr_node.next #before breaking the connection store next to somwhere else\n",
        "      curr_node.next=prev_node\n",
        "      prev_node=curr_node\n",
        "      curr_node=next_node\n",
        "\n",
        "    self.head=prev_node"
      ],
      "metadata": {
        "id": "pWH9bBoTYg-D"
      },
      "execution_count": null,
      "outputs": []
    },
    {
      "cell_type": "code",
      "source": [
        "Q) return a new string which is created by appending all char given in ll\n",
        "i/p: A.n.*./.a.p.p.l.e.*.a.*.d.a.y.*.k.e.e.p.s.*.a.*.d.o.c.t.o.r.*.a.w.a.y\n",
        "o/p an apple a day keeps a doctor away\n"
      ],
      "metadata": {
        "id": "18lAljHLYhcY"
      },
      "execution_count": null,
      "outputs": []
    },
    {
      "cell_type": "code",
      "source": [
        "def change_sent(self):\n",
        "\n",
        "    temp=self.head\n",
        "\n",
        "    while temp != None:\n",
        "      if temp.data == \"*\" or temp.data ==\"/\":\n",
        "        temp.data=\" \"\n",
        "\n",
        "        if temp.next.data ==\"*\" or temp.next.data ==\"/\":\n",
        "          temp.next.next.data=temp.next.next.data.upper()\n",
        "          temp.next=temp.next.next#it is used to skip the * character\n",
        "\n",
        "      temp=temp.next"
      ],
      "metadata": {
        "id": "UtjjJNg8Z0D_"
      },
      "execution_count": null,
      "outputs": []
    },
    {
      "cell_type": "markdown",
      "source": [
        "### **Stack LL implementation**"
      ],
      "metadata": {
        "id": "vR2gUfsZQImF"
      }
    },
    {
      "cell_type": "code",
      "source": [
        "class Node:\n",
        "\n",
        "  def __init__(self,value):\n",
        "    self.data=value\n",
        "    self.next=None\n",
        "\n"
      ],
      "metadata": {
        "id": "rg-bcq_0kkMh"
      },
      "execution_count": null,
      "outputs": []
    },
    {
      "cell_type": "code",
      "source": [
        "from typing_extensions import dataclass_transform\n",
        "class Stack:\n",
        "\n",
        "  def __init__(self):\n",
        "    self.top=None\n",
        "\n",
        "  def isempty(self):\n",
        "    return self.top == None\n",
        "\n",
        "\n",
        "  def push(self,value):\n",
        "    new_node=Node(value)\n",
        "    new_node.next=self.top\n",
        "    self.top=new_node\n",
        "\n",
        "  def traverse(self):\n",
        "    temp=self.top\n",
        "\n",
        "    while temp != None:\n",
        "      print(temp.data)\n",
        "      temp=temp.next\n",
        "\n",
        "  def peek(self):\n",
        "    if(self.isempty()):\n",
        "      return \"Stack is empty\"\n",
        "\n",
        "    else:\n",
        "      return self.top.data\n",
        "\n",
        "  def pop(self):\n",
        "\n",
        "    if(self.isempty()):\n",
        "      return \"Stack is empty\"\n",
        "\n",
        "    else:\n",
        "      data=self.top.data\n",
        "      self.top=self.top.next\n",
        "      return data\n",
        "\n",
        "  def size(self):\n",
        "    temp=self.top\n",
        "    counter=0\n",
        "\n",
        "    while temp is not None:\n",
        "      temp=temp.next\n",
        "      counter=counter+1\n",
        "    return counter\n",
        "\n"
      ],
      "metadata": {
        "id": "JqY3XxKRQV1u"
      },
      "execution_count": null,
      "outputs": []
    },
    {
      "cell_type": "code",
      "source": [
        "s=Stack()"
      ],
      "metadata": {
        "id": "09lowWB5R0KP"
      },
      "execution_count": null,
      "outputs": []
    },
    {
      "cell_type": "code",
      "source": [
        "s.isempty()"
      ],
      "metadata": {
        "colab": {
          "base_uri": "https://localhost:8080/"
        },
        "id": "DcnswVaPSIks",
        "outputId": "c01bf43c-68d1-42a5-cb72-3ff83cd644f3"
      },
      "execution_count": null,
      "outputs": [
        {
          "output_type": "execute_result",
          "data": {
            "text/plain": [
              "True"
            ]
          },
          "metadata": {},
          "execution_count": 35
        }
      ]
    },
    {
      "cell_type": "code",
      "source": [
        "s.push(2)\n",
        "s.push(3)\n",
        "s.push(4)"
      ],
      "metadata": {
        "id": "bBii7HIfSVkK"
      },
      "execution_count": null,
      "outputs": []
    },
    {
      "cell_type": "code",
      "source": [
        "s.traverse()"
      ],
      "metadata": {
        "colab": {
          "base_uri": "https://localhost:8080/"
        },
        "id": "kQr_du48SZCa",
        "outputId": "5ee470fe-331b-4975-8891-baf9c76108ce"
      },
      "execution_count": null,
      "outputs": [
        {
          "output_type": "stream",
          "name": "stdout",
          "text": [
            "4\n",
            "3\n",
            "2\n"
          ]
        }
      ]
    },
    {
      "cell_type": "code",
      "source": [
        "s.peek()#give the top value"
      ],
      "metadata": {
        "colab": {
          "base_uri": "https://localhost:8080/"
        },
        "id": "ilzkdEkcSa72",
        "outputId": "668e92c9-95e6-49aa-d3a2-80c6e10c5fd5"
      },
      "execution_count": null,
      "outputs": [
        {
          "output_type": "execute_result",
          "data": {
            "text/plain": [
              "4"
            ]
          },
          "metadata": {},
          "execution_count": 38
        }
      ]
    },
    {
      "cell_type": "code",
      "source": [
        "s.pop()#remove the top item-4"
      ],
      "metadata": {
        "colab": {
          "base_uri": "https://localhost:8080/"
        },
        "id": "kdXfY2ghUAKT",
        "outputId": "66cfbbf1-184b-48da-d566-20a5bdc2093c"
      },
      "execution_count": null,
      "outputs": [
        {
          "output_type": "execute_result",
          "data": {
            "text/plain": [
              "4"
            ]
          },
          "metadata": {},
          "execution_count": 39
        }
      ]
    },
    {
      "cell_type": "code",
      "source": [
        "s.traverse()"
      ],
      "metadata": {
        "colab": {
          "base_uri": "https://localhost:8080/"
        },
        "id": "Sr85xxdpUlq7",
        "outputId": "300bedea-bed0-4c67-c772-2adbda3411f0"
      },
      "execution_count": null,
      "outputs": [
        {
          "output_type": "stream",
          "name": "stdout",
          "text": [
            "3\n",
            "2\n"
          ]
        }
      ]
    },
    {
      "cell_type": "code",
      "source": [
        "Q) string reverse using stack"
      ],
      "metadata": {
        "id": "HXz-XHvSUm2F"
      },
      "execution_count": null,
      "outputs": []
    },
    {
      "cell_type": "code",
      "source": [
        "def rev_str(text):\n",
        "  s=Stack()\n",
        "\n",
        "  for i in text:\n",
        "    s.push(i)\n",
        "\n",
        "  result=\"\"\n",
        "\n",
        "  while(not s.isempty()):\n",
        "    result=result+s.pop()\n",
        "\n",
        "  print(result)\n"
      ],
      "metadata": {
        "id": "olPaQeFdVGwN"
      },
      "execution_count": null,
      "outputs": []
    },
    {
      "cell_type": "code",
      "source": [
        "rev_str(\"apple\")"
      ],
      "metadata": {
        "colab": {
          "base_uri": "https://localhost:8080/"
        },
        "id": "z16d28aUW82U",
        "outputId": "d6e16753-144f-491f-af7a-9a1669168748"
      },
      "execution_count": null,
      "outputs": [
        {
          "output_type": "stream",
          "name": "stdout",
          "text": [
            "elppa\n"
          ]
        }
      ]
    },
    {
      "cell_type": "code",
      "source": [
        "Q) text editor"
      ],
      "metadata": {
        "id": "_k6sh8GgXByC"
      },
      "execution_count": null,
      "outputs": []
    },
    {
      "cell_type": "code",
      "source": [
        "def text_editor(text,pattern):\n",
        "\n",
        "  u=Stack()\n",
        "  r=Stack()\n",
        "\n",
        "  for i in text:\n",
        "    u.push(i)\n",
        "\n",
        "  for i in pattern:\n",
        "\n",
        "    if i=='u':\n",
        "      data=u.pop()\n",
        "      r.push(data)\n",
        "    else:\n",
        "      data=r.pop()\n",
        "      u.push(data)\n",
        "\n",
        "  res=''\n",
        "  while(not u.isempty()):\n",
        "    res=u.pop()+res\n",
        "\n",
        "  print(res)\n",
        "\n",
        "\n",
        "\n",
        "\n",
        "\n"
      ],
      "metadata": {
        "id": "dPYbXdYVXfRd"
      },
      "execution_count": null,
      "outputs": []
    },
    {
      "cell_type": "code",
      "source": [
        "text_editor('Gujarat','uruuruu')"
      ],
      "metadata": {
        "colab": {
          "base_uri": "https://localhost:8080/"
        },
        "id": "l3eOsy-7aX5Y",
        "outputId": "d227788d-e30d-4cb7-b760-30d228fa0cd4"
      },
      "execution_count": null,
      "outputs": [
        {
          "output_type": "stream",
          "name": "stdout",
          "text": [
            "Guja\n"
          ]
        }
      ]
    },
    {
      "cell_type": "code",
      "source": [
        "Q) celebrity problem"
      ],
      "metadata": {
        "id": "NSpQAXr6aeEs"
      },
      "execution_count": null,
      "outputs": []
    },
    {
      "cell_type": "code",
      "source": [
        "L=[\n",
        "    [0,0,1,1],\n",
        "    [0,0,1,0],\n",
        "    [0,0,0,0],\n",
        "    [0,0,1,0]\n",
        "]"
      ],
      "metadata": {
        "id": "iHrC31c_bNMr"
      },
      "execution_count": null,
      "outputs": []
    },
    {
      "cell_type": "code",
      "source": [
        "def find_celeb(L):\n",
        "  s=Stack()\n",
        "\n",
        "  for i in range(len(L)):  #kept all the 4 celeb in a stack\n",
        "    s.push(i)\n",
        "\n",
        "  while s.size()>=2:\n",
        "    i=s.pop()\n",
        "    j=s.pop()\n",
        "    if L[i][j]==0:\n",
        "      #j is not a celeb\n",
        "      s.push(i)\n",
        "\n",
        "    else:\n",
        "      #i is not celeb\n",
        "      s.push(j)\n",
        "\n",
        "  #print(s.traverse()) = this keeps the last person after complete elimination in the stack\n",
        "\n",
        "  celeb=s.pop()\n",
        "\n",
        "  for i in range(len(L)):\n",
        "\n",
        "    if i != celeb:\n",
        "      if L[i][celeb] !=1 or L[celeb][i]!=0:\n",
        "          #in both the case the person is not celeb\n",
        "        print(\"No one is celebrity\")\n",
        "        return\n",
        "\n",
        "\n",
        "  print('The celebrity is',celeb)\n",
        "\n",
        "\n",
        "\n",
        "\n",
        "\n"
      ],
      "metadata": {
        "id": "XvjNbZUnenoM"
      },
      "execution_count": null,
      "outputs": []
    },
    {
      "cell_type": "code",
      "source": [
        "find_celeb(L)"
      ],
      "metadata": {
        "colab": {
          "base_uri": "https://localhost:8080/"
        },
        "id": "OoGpLLnefnOB",
        "outputId": "46d94dfd-9669-40af-c0b2-b14c32597480"
      },
      "execution_count": null,
      "outputs": [
        {
          "output_type": "stream",
          "name": "stdout",
          "text": [
            "The celebrity is 2\n"
          ]
        }
      ]
    },
    {
      "cell_type": "markdown",
      "source": [
        "### **stack using arrays**"
      ],
      "metadata": {
        "id": "G9AykAsHnp-R"
      }
    },
    {
      "cell_type": "code",
      "source": [
        "L=[1,2,3,4]"
      ],
      "metadata": {
        "id": "A5QhIShhnUQ3"
      },
      "execution_count": 1,
      "outputs": []
    },
    {
      "cell_type": "code",
      "source": [
        "L\n"
      ],
      "metadata": {
        "colab": {
          "base_uri": "https://localhost:8080/"
        },
        "id": "6uUbLRKKnbbl",
        "outputId": "86e65a7b-e143-4d48-b687-ee5d13565e8a"
      },
      "execution_count": 2,
      "outputs": [
        {
          "output_type": "execute_result",
          "data": {
            "text/plain": [
              "[1, 2, 3, 4]"
            ]
          },
          "metadata": {},
          "execution_count": 2
        }
      ]
    },
    {
      "cell_type": "code",
      "source": [
        "L.append(5)"
      ],
      "metadata": {
        "id": "Z3Uj4T72ncEP"
      },
      "execution_count": 4,
      "outputs": []
    },
    {
      "cell_type": "code",
      "source": [
        "L"
      ],
      "metadata": {
        "colab": {
          "base_uri": "https://localhost:8080/"
        },
        "id": "OXpzeanDndT4",
        "outputId": "3b88e8d1-2ca7-4dad-b28d-402ee3116c08"
      },
      "execution_count": 5,
      "outputs": [
        {
          "output_type": "execute_result",
          "data": {
            "text/plain": [
              "[1, 2, 3, 4, 5]"
            ]
          },
          "metadata": {},
          "execution_count": 5
        }
      ]
    },
    {
      "cell_type": "code",
      "source": [
        "L.pop()"
      ],
      "metadata": {
        "colab": {
          "base_uri": "https://localhost:8080/"
        },
        "id": "XzpmbTwNndww",
        "outputId": "ae759f80-27f1-4710-9306-bb0276188672"
      },
      "execution_count": 6,
      "outputs": [
        {
          "output_type": "execute_result",
          "data": {
            "text/plain": [
              "5"
            ]
          },
          "metadata": {},
          "execution_count": 6
        }
      ]
    },
    {
      "cell_type": "code",
      "source": [
        "L"
      ],
      "metadata": {
        "colab": {
          "base_uri": "https://localhost:8080/"
        },
        "id": "MqfzWkvsnkaf",
        "outputId": "5382ec09-5cf7-4d2d-f668-be97a4ff9e48"
      },
      "execution_count": 7,
      "outputs": [
        {
          "output_type": "execute_result",
          "data": {
            "text/plain": [
              "[1, 2, 3, 4]"
            ]
          },
          "metadata": {},
          "execution_count": 7
        }
      ]
    },
    {
      "cell_type": "code",
      "source": [
        "# we are using the concept of arrays of any other coding language and therefore the size of the arraye is fixed\n",
        "class Stack:\n",
        "\n",
        "  def __init__(self,size):\n",
        "    self.size=size\n",
        "    self.__stack=[None] * self.size#it is an array which is created on the bases of memory size provided\n",
        "    self.top=-1\n",
        "\n",
        "  def push(self,value):\n",
        "\n",
        "    if self.top==self.size-1:\n",
        "      return \"Stack is Full\"\n",
        "    else:\n",
        "      self.top+=1\n",
        "      self.stack[self.top]=value\n",
        "\n",
        "  def pop(self):\n",
        "    if self.top == -1:\n",
        "      return \"Empty\"\n",
        "    else:\n",
        "      data=self.stack[self.top]#fetch the data on the top\n",
        "      self.top=self.top-1\n",
        "      print(data)\n",
        "\n",
        "  def traverse(self):\n",
        "\n",
        "    for i in range(self.top+1):\n",
        "       #we use temp to print items in array\n",
        "       print(self.stack[i],end=' ')\n",
        "\n",
        "\n",
        "\n"
      ],
      "metadata": {
        "id": "DMHaXxxYnlSW"
      },
      "execution_count": 22,
      "outputs": []
    },
    {
      "cell_type": "code",
      "source": [
        "s=Stack(3)   #it means the size of array is 3"
      ],
      "metadata": {
        "id": "R33pipsboilK"
      },
      "execution_count": 23,
      "outputs": []
    },
    {
      "cell_type": "code",
      "source": [
        "s.stack"
      ],
      "metadata": {
        "colab": {
          "base_uri": "https://localhost:8080/"
        },
        "id": "8ryx77T-okay",
        "outputId": "3a141859-1e67-46b8-e7da-b7d935c82010"
      },
      "execution_count": 24,
      "outputs": [
        {
          "output_type": "execute_result",
          "data": {
            "text/plain": [
              "[None, None, None]"
            ]
          },
          "metadata": {},
          "execution_count": 24
        }
      ]
    },
    {
      "cell_type": "code",
      "source": [
        "s.push(4)\n",
        "s.push(5)\n",
        "s.push(6)"
      ],
      "metadata": {
        "id": "PBThsWrZqhzQ"
      },
      "execution_count": 25,
      "outputs": []
    },
    {
      "cell_type": "code",
      "source": [
        "s.pop()"
      ],
      "metadata": {
        "colab": {
          "base_uri": "https://localhost:8080/"
        },
        "id": "3ropIbl2qjyM",
        "outputId": "e74715c5-19b4-4209-ae59-462eed642cb4"
      },
      "execution_count": 26,
      "outputs": [
        {
          "output_type": "stream",
          "name": "stdout",
          "text": [
            "6\n"
          ]
        }
      ]
    },
    {
      "cell_type": "code",
      "source": [
        "s.stack\n",
        "#whenever we the pop the item the command s.stack shows the complete array even after the popping all the items out\n",
        "#so use diffenret method called traverse"
      ],
      "metadata": {
        "colab": {
          "base_uri": "https://localhost:8080/"
        },
        "id": "QsU9Fx9Rrwaz",
        "outputId": "f2acde2c-6fc6-46f1-9e36-87fb38116631"
      },
      "execution_count": 27,
      "outputs": [
        {
          "output_type": "execute_result",
          "data": {
            "text/plain": [
              "[4, 5, 6]"
            ]
          },
          "metadata": {},
          "execution_count": 27
        }
      ]
    },
    {
      "cell_type": "code",
      "source": [
        "s.traverse()"
      ],
      "metadata": {
        "colab": {
          "base_uri": "https://localhost:8080/"
        },
        "id": "wk1k0L-3r0xp",
        "outputId": "9c49da23-2473-49b2-d141-3982127c21a5"
      },
      "execution_count": 28,
      "outputs": [
        {
          "output_type": "stream",
          "name": "stdout",
          "text": [
            "4 5 "
          ]
        }
      ]
    },
    {
      "cell_type": "code",
      "source": [],
      "metadata": {
        "id": "CaMdJoFktI_y"
      },
      "execution_count": null,
      "outputs": []
    }
  ]
}