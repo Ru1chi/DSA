{
  "nbformat": 4,
  "nbformat_minor": 0,
  "metadata": {
    "colab": {
      "provenance": [],
      "authorship_tag": "ABX9TyP/IzIvDzi1qdHQXo+J+R3v",
      "include_colab_link": true
    },
    "kernelspec": {
      "name": "python3",
      "display_name": "Python 3"
    },
    "language_info": {
      "name": "python"
    }
  },
  "cells": [
    {
      "cell_type": "markdown",
      "metadata": {
        "id": "view-in-github",
        "colab_type": "text"
      },
      "source": [
        "<a href=\"https://colab.research.google.com/github/Ru1chi/DSA/blob/main/Linear_v_s_Binary_Search.ipynb\" target=\"_parent\"><img src=\"https://colab.research.google.com/assets/colab-badge.svg\" alt=\"Open In Colab\"/></a>"
      ]
    },
    {
      "cell_type": "markdown",
      "source": [
        "## **Binary v/s Linear Search**"
      ],
      "metadata": {
        "id": "m6oBgdAjhsKY"
      }
    },
    {
      "cell_type": "code",
      "execution_count": 12,
      "metadata": {
        "id": "Rkamg_-bhSCG"
      },
      "outputs": [],
      "source": [
        "def locate_card_linear(cards,query):\n",
        "  position =0\n",
        "  while position <len(cards):\n",
        "    if cards[position] == query:\n",
        "      return position\n",
        "    position +=1\n",
        "  return -1"
      ]
    },
    {
      "cell_type": "code",
      "source": [
        "large_test={\n",
        "    'input':{\n",
        "        'cards':list(range(10000000,0,-1)),\n",
        "        'query':2\n",
        "    },\n",
        "    'output':9999998\n",
        "}"
      ],
      "metadata": {
        "id": "tFOMxihuhq5C"
      },
      "execution_count": 14,
      "outputs": []
    },
    {
      "cell_type": "code",
      "source": [
        "def locate_card_binary(cards,query):\n",
        "  lo,hi=0, len(cards)-1\n",
        "\n",
        "  #getting the middle card\n",
        "  while lo<hi:\n",
        "    mid=(lo+hi) //2\n",
        "    mid_number=cards[mid]\n",
        "\n",
        "    #printing all the needed values\n",
        "    print(\"lo:\",lo,\"hi:\",hi,\"mid_number:\",mid_number)\n",
        "\n",
        "    #now giving if loop\n",
        "    if mid_number == query:\n",
        "      return mid\n",
        "    elif mid_number< query:\n",
        "      hi=mid-1\n",
        "    elif mid_number>query:\n",
        "      lo=mid+1\n",
        "  return -1"
      ],
      "metadata": {
        "id": "G843rn41kDGq"
      },
      "execution_count": 19,
      "outputs": []
    },
    {
      "cell_type": "code",
      "source": [
        "!pip install jovian  --upgrade --quiet\n",
        ""
      ],
      "metadata": {
        "colab": {
          "base_uri": "https://localhost:8080/"
        },
        "id": "4XwDfJbEiwWT",
        "outputId": "7f191e52-69fc-4a1c-ed78-570600b23a1a"
      },
      "execution_count": 6,
      "outputs": [
        {
          "output_type": "stream",
          "name": "stdout",
          "text": [
            "\u001b[?25l     \u001b[90m━━━━━━━━━━━━━━━━━━━━━━━━━━━━━━━━━━━━━━━━\u001b[0m \u001b[32m0.0/68.6 kB\u001b[0m \u001b[31m?\u001b[0m eta \u001b[36m-:--:--\u001b[0m\r\u001b[2K     \u001b[91m━━━━━━━━━━━━━━━━━━━━━━━\u001b[0m\u001b[91m╸\u001b[0m\u001b[90m━━━━━━━━━━━━━━━━\u001b[0m \u001b[32m41.0/68.6 kB\u001b[0m \u001b[31m980.7 kB/s\u001b[0m eta \u001b[36m0:00:01\u001b[0m\r\u001b[2K     \u001b[90m━━━━━━━━━━━━━━━━━━━━━━━━━━━━━━━━━━━━━━━━\u001b[0m \u001b[32m68.6/68.6 kB\u001b[0m \u001b[31m847.5 kB/s\u001b[0m eta \u001b[36m0:00:00\u001b[0m\n",
            "\u001b[?25h  Preparing metadata (setup.py) ... \u001b[?25l\u001b[?25hdone\n",
            "  Building wheel for uuid (setup.py) ... \u001b[?25l\u001b[?25hdone\n"
          ]
        }
      ]
    },
    {
      "cell_type": "code",
      "source": [
        "from  jovian.pythondsa import evaluate_test_case"
      ],
      "metadata": {
        "id": "K3nJQcPciSJY"
      },
      "execution_count": 8,
      "outputs": []
    },
    {
      "cell_type": "code",
      "source": [],
      "metadata": {
        "id": "YxP90j4_iSGB"
      },
      "execution_count": null,
      "outputs": []
    },
    {
      "cell_type": "code",
      "source": [
        "result,passed,runtime=evaluate_test_case(locate_card_linear,large_test)"
      ],
      "metadata": {
        "colab": {
          "base_uri": "https://localhost:8080/"
        },
        "id": "rP2XyJbPiI02",
        "outputId": "5bc0d01a-071d-4843-f554-3c9587bdfee8"
      },
      "execution_count": 15,
      "outputs": [
        {
          "output_type": "stream",
          "name": "stdout",
          "text": [
            "\n",
            "Input:\n",
            "{'cards': [10000000, 9999999, 9999998, 9999997, 9999996, 9999995, 9999994, 9999993, 9999992, 9999991...\n",
            "\n",
            "Expected Output:\n",
            "9999998\n",
            "\n",
            "\n",
            "Actual Output:\n",
            "9999998\n",
            "\n",
            "Execution Time:\n",
            "2853.704 ms\n",
            "\n",
            "Test Result:\n",
            "\u001b[92mPASSED\u001b[0m\n",
            "\n"
          ]
        }
      ]
    },
    {
      "cell_type": "code",
      "source": [
        "result,passed,runtime=evaluate_test_case(locate_card_binary,large_test)"
      ],
      "metadata": {
        "colab": {
          "base_uri": "https://localhost:8080/"
        },
        "id": "buGPWmkbjM56",
        "outputId": "4ef7561d-2752-41d3-ef8d-8908c752e188"
      },
      "execution_count": 20,
      "outputs": [
        {
          "output_type": "stream",
          "name": "stdout",
          "text": [
            "\n",
            "Input:\n",
            "{'cards': [10000000, 9999999, 9999998, 9999997, 9999996, 9999995, 9999994, 9999993, 9999992, 9999991...\n",
            "\n",
            "Expected Output:\n",
            "9999998\n",
            "\n",
            "lo: 0 hi: 9999999 mid_number: 5000001\n",
            "lo: 5000000 hi: 9999999 mid_number: 2500001\n",
            "lo: 7500000 hi: 9999999 mid_number: 1250001\n",
            "lo: 8750000 hi: 9999999 mid_number: 625001\n",
            "lo: 9375000 hi: 9999999 mid_number: 312501\n",
            "lo: 9687500 hi: 9999999 mid_number: 156251\n",
            "lo: 9843750 hi: 9999999 mid_number: 78126\n",
            "lo: 9921875 hi: 9999999 mid_number: 39063\n",
            "lo: 9960938 hi: 9999999 mid_number: 19532\n",
            "lo: 9980469 hi: 9999999 mid_number: 9766\n",
            "lo: 9990235 hi: 9999999 mid_number: 4883\n",
            "lo: 9995118 hi: 9999999 mid_number: 2442\n",
            "lo: 9997559 hi: 9999999 mid_number: 1221\n",
            "lo: 9998780 hi: 9999999 mid_number: 611\n",
            "lo: 9999390 hi: 9999999 mid_number: 306\n",
            "lo: 9999695 hi: 9999999 mid_number: 153\n",
            "lo: 9999848 hi: 9999999 mid_number: 77\n",
            "lo: 9999924 hi: 9999999 mid_number: 39\n",
            "lo: 9999962 hi: 9999999 mid_number: 20\n",
            "lo: 9999981 hi: 9999999 mid_number: 10\n",
            "lo: 9999991 hi: 9999999 mid_number: 5\n",
            "lo: 9999996 hi: 9999999 mid_number: 3\n",
            "lo: 9999998 hi: 9999999 mid_number: 2\n",
            "\n",
            "Actual Output:\n",
            "9999998\n",
            "\n",
            "Execution Time:\n",
            "29.568 ms\n",
            "\n",
            "Test Result:\n",
            "\u001b[92mPASSED\u001b[0m\n",
            "\n"
          ]
        }
      ]
    },
    {
      "cell_type": "markdown",
      "source": [
        "## **AS we can see that the excution time for binary search is way more less than the execution time in linear search**"
      ],
      "metadata": {
        "id": "A5Q3H2OXkM_L"
      }
    },
    {
      "cell_type": "code",
      "source": [],
      "metadata": {
        "id": "AhhYPbnDj5H3"
      },
      "execution_count": null,
      "outputs": []
    }
  ]
}