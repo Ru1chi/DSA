{
  "nbformat": 4,
  "nbformat_minor": 0,
  "metadata": {
    "colab": {
      "provenance": [],
      "authorship_tag": "ABX9TyOmm9VNn0iVGVtihm02xLMX",
      "include_colab_link": true
    },
    "kernelspec": {
      "name": "python3",
      "display_name": "Python 3"
    },
    "language_info": {
      "name": "python"
    }
  },
  "cells": [
    {
      "cell_type": "markdown",
      "metadata": {
        "id": "view-in-github",
        "colab_type": "text"
      },
      "source": [
        "<a href=\"https://colab.research.google.com/github/Ru1chi/DSA/blob/main/binay_search.ipynb\" target=\"_parent\"><img src=\"https://colab.research.google.com/assets/colab-badge.svg\" alt=\"Open In Colab\"/></a>"
      ]
    },
    {
      "cell_type": "markdown",
      "source": [
        "## **Data Structures and Algorithms**"
      ],
      "metadata": {
        "id": "GBd0N1EENhGU"
      }
    },
    {
      "cell_type": "code",
      "execution_count": 144,
      "metadata": {
        "id": "UBO8K3jzNf84"
      },
      "outputs": [],
      "source": [
        "  def locate_card(cards,query):\n",
        "    pass\n"
      ]
    },
    {
      "cell_type": "markdown",
      "source": [
        "## **Taking a sample to understand**"
      ],
      "metadata": {
        "id": "MTQfYqoUN7b6"
      }
    },
    {
      "cell_type": "code",
      "source": [
        "\n",
        "cards=[13,11,10,5,4,2,1]\n",
        "query=5\n",
        "output=2"
      ],
      "metadata": {
        "id": "xfcF1OYRNwEq"
      },
      "execution_count": 145,
      "outputs": []
    },
    {
      "cell_type": "code",
      "source": [
        "result=locate_card(cards,query)\n",
        "print(result)"
      ],
      "metadata": {
        "colab": {
          "base_uri": "https://localhost:8080/"
        },
        "id": "fJT_LQzpOGLK",
        "outputId": "cec01a96-a29b-4548-eeb3-dba3e289f5ee"
      },
      "execution_count": 146,
      "outputs": [
        {
          "output_type": "stream",
          "name": "stdout",
          "text": [
            "None\n"
          ]
        }
      ]
    },
    {
      "cell_type": "code",
      "source": [
        "result==output"
      ],
      "metadata": {
        "colab": {
          "base_uri": "https://localhost:8080/"
        },
        "id": "YalNyO4iONgA",
        "outputId": "72865704-b598-497d-fc51-ca7ea49d79f1"
      },
      "execution_count": 147,
      "outputs": [
        {
          "output_type": "execute_result",
          "data": {
            "text/plain": [
              "False"
            ]
          },
          "metadata": {},
          "execution_count": 147
        }
      ]
    },
    {
      "cell_type": "markdown",
      "source": [
        "## **Make the set of test in the form of dictionary**"
      ],
      "metadata": {
        "id": "ArifgwuMORlR"
      }
    },
    {
      "cell_type": "code",
      "source": [
        "test={\n",
        "    'input':{\n",
        "        'cards': [13,11,10,5,4,2,1],\n",
        "        'query' : 5\n",
        "    },\n",
        "    'output': 3\n",
        "\n",
        "}"
      ],
      "metadata": {
        "id": "Ja7AQ1vKOQYF"
      },
      "execution_count": 148,
      "outputs": []
    },
    {
      "cell_type": "code",
      "source": [
        "#now call the function\n",
        "locate_card(test['input']['cards'] , test['input']['query']) == test['output']"
      ],
      "metadata": {
        "colab": {
          "base_uri": "https://localhost:8080/"
        },
        "id": "rYoAeE-dOwM_",
        "outputId": "8c0ddd1f-100a-4ef7-d141-b84f7f0f2f52"
      },
      "execution_count": 149,
      "outputs": [
        {
          "output_type": "execute_result",
          "data": {
            "text/plain": [
              "False"
            ]
          },
          "metadata": {},
          "execution_count": 149
        }
      ]
    },
    {
      "cell_type": "markdown",
      "source": [
        "## **But the number of cases of the cards can be different**"
      ],
      "metadata": {
        "id": "r5LKdnpQPalG"
      }
    },
    {
      "cell_type": "code",
      "source": [
        "\n",
        "tests=[]"
      ],
      "metadata": {
        "id": "q0NOb29APHti"
      },
      "execution_count": 150,
      "outputs": []
    },
    {
      "cell_type": "code",
      "source": [
        "#case1\n",
        "#query occures in the middle\n",
        "tests.append(test)\n",
        "\n",
        "tests.append({\n",
        "    'input':{\n",
        "        'cards': [13,11,10,5,4,2,1],\n",
        "        'query' : 11\n",
        "    },\n",
        "    'output': 1\n",
        "\n",
        "})"
      ],
      "metadata": {
        "id": "sHzujUP5Plm8"
      },
      "execution_count": 151,
      "outputs": []
    },
    {
      "cell_type": "code",
      "source": [
        "()\n",
        "\n",
        "#case2\n",
        "#query is the first element\n",
        "\n",
        "tests.append({\n",
        "    'input':{\n",
        "        'cards': [13,11,10,5,4,2,1],\n",
        "        'query' : 4\n",
        "    },\n",
        "    'output': 4\n",
        "\n",
        "})"
      ],
      "metadata": {
        "id": "gREr6P8nP8jO"
      },
      "execution_count": 152,
      "outputs": []
    },
    {
      "cell_type": "code",
      "source": [
        "\n",
        "#case3\n",
        "#query is the last element l,.|\\\n",
        "\n",
        "\n",
        "tests.append({\n",
        "    'input':{\n",
        "        'cards': [13,11,10,5,4,2,1],\n",
        "        'query' : 2\n",
        "    },\n",
        "    'output': 5\n",
        "\n",
        "})"
      ],
      "metadata": {
        "id": "QDzt5RLSQK5G"
      },
      "execution_count": 153,
      "outputs": []
    },
    {
      "cell_type": "code",
      "source": [
        "\n",
        "#case4\n",
        "#cards contain just one element\n",
        "\n",
        "\n",
        "tests.append({\n",
        "    'input':{\n",
        "        'cards': [13],\n",
        "        'query' : 13\n",
        "    },\n",
        "    'output': 0\n",
        "\n",
        "})"
      ],
      "metadata": {
        "id": "mnZeaP0UQX7A"
      },
      "execution_count": 154,
      "outputs": []
    },
    {
      "cell_type": "code",
      "source": [
        "#case5\n",
        "#cards contain no query\n",
        "\n",
        "\n",
        "\n",
        "tests.append({\n",
        "    'input':{\n",
        "        'cards': [13,11,10,5,4,2,1],\n",
        "        'query' : 15\n",
        "    },\n",
        "    'output': -1\n",
        "\n",
        "})"
      ],
      "metadata": {
        "id": "Y5u9N_46Qhjh"
      },
      "execution_count": 155,
      "outputs": []
    },
    {
      "cell_type": "code",
      "source": [
        "#case6\n",
        "#the cards are repeated\n",
        "\n",
        "tests.append({\n",
        "    'input':{\n",
        "        'cards':[8,8,6,6,6,6,3,2,2,20,0,0,0],\n",
        "        'query':3\n",
        "\n",
        "    },'output':6\n",
        "\n",
        "})"
      ],
      "metadata": {
        "id": "h3zDLv5sSpwE"
      },
      "execution_count": 156,
      "outputs": []
    },
    {
      "cell_type": "code",
      "source": [
        "#case7\n",
        "#the selected cards occurs multipe times\n",
        "\n",
        "tests.append({\n",
        "    'input':{\n",
        "        'cards':[6,6,6,6,2,2,2,8,1,0],\n",
        "        'query':6\n",
        "    },'output':0\n",
        "})"
      ],
      "metadata": {
        "id": "Qb6nZvmVTBWx"
      },
      "execution_count": 170,
      "outputs": []
    },
    {
      "cell_type": "code",
      "source": [
        "tests"
      ],
      "metadata": {
        "colab": {
          "base_uri": "https://localhost:8080/"
        },
        "id": "w9ub3fulTfuW",
        "outputId": "c73f603e-3fe0-40e7-c7d0-51d9a400c08f"
      },
      "execution_count": 171,
      "outputs": [
        {
          "output_type": "execute_result",
          "data": {
            "text/plain": [
              "[{'input': {'cards': [13, 11, 10, 5, 4, 2, 1], 'query': 5}, 'output': 3},\n",
              " {'input': {'cards': [13, 11, 10, 5, 4, 2, 1], 'query': 11}, 'output': 1},\n",
              " {'input': {'cards': [13, 11, 10, 5, 4, 2, 1], 'query': 4}, 'output': 4},\n",
              " {'input': {'cards': [13, 11, 10, 5, 4, 2, 1], 'query': 2}, 'output': 5},\n",
              " {'input': {'cards': [13], 'query': 13}, 'output': 0},\n",
              " {'input': {'cards': [13, 11, 10, 5, 4, 2, 1], 'query': 15}, 'output': -1},\n",
              " {'input': {'cards': [8, 8, 6, 6, 6, 6, 3, 2, 2, 20, 0, 0, 0], 'query': 3},\n",
              "  'output': 6},\n",
              " {'input': {'cards': [6, 6, 6, 6, 2, 2, 2, 8, 1, 0], 'query': 6}, 'output': 2},\n",
              " {'input': {'cards': [6, 6, 6, 6, 2, 2, 2, 8, 1, 0], 'query': 6}, 'output': 3},\n",
              " {'input': {'cards': [6, 6, 6, 6, 2, 2, 2, 8, 1, 0], 'query': 6}, 'output': 0}]"
            ]
          },
          "metadata": {},
          "execution_count": 171
        }
      ]
    },
    {
      "cell_type": "markdown",
      "source": [
        "## **Implement the solution and test it using example**"
      ],
      "metadata": {
        "id": "AY723_UzTwbB"
      }
    },
    {
      "cell_type": "code",
      "source": [
        "\n",
        "def locate_card(cards,query):\n",
        "\n",
        "  position=0\n",
        "\n",
        "  while position<len(cards):\n",
        "\n",
        "    if cards[position] == query:\n",
        "      return position\n",
        "\n",
        "    position+=1\n",
        "\n",
        "\n",
        "  return -1"
      ],
      "metadata": {
        "id": "i9HFp280ThhG"
      },
      "execution_count": 172,
      "outputs": []
    },
    {
      "cell_type": "code",
      "source": [
        "result = locate_card(test['input']['cards'],test['input']['query'])\n",
        "result"
      ],
      "metadata": {
        "colab": {
          "base_uri": "https://localhost:8080/"
        },
        "id": "b6kKC6GUUasO",
        "outputId": "90c6a1ef-aac0-42ec-ed81-15235b3a64f6"
      },
      "execution_count": 173,
      "outputs": [
        {
          "output_type": "execute_result",
          "data": {
            "text/plain": [
              "3"
            ]
          },
          "metadata": {},
          "execution_count": 173
        }
      ]
    },
    {
      "cell_type": "code",
      "source": [
        "\n",
        "!pip install jovian  --upgrade --quiet"
      ],
      "metadata": {
        "id": "sjwXK3OpUoIA"
      },
      "execution_count": 174,
      "outputs": []
    },
    {
      "cell_type": "code",
      "source": [
        "\n",
        "\n",
        "from jovian.pythondsa import evaluate_test_case"
      ],
      "metadata": {
        "id": "1S0YZeDaVHQ7"
      },
      "execution_count": 175,
      "outputs": []
    },
    {
      "cell_type": "code",
      "source": [
        "evaluate_test_case(locate_card,test)"
      ],
      "metadata": {
        "colab": {
          "base_uri": "https://localhost:8080/"
        },
        "id": "_NGjb_hFVOf-",
        "outputId": "bda75e2f-62ec-4a93-c87b-56afc98b989d"
      },
      "execution_count": 176,
      "outputs": [
        {
          "output_type": "stream",
          "name": "stdout",
          "text": [
            "\n",
            "Input:\n",
            "{'cards': [13, 11, 10, 5, 4, 2, 1], 'query': 5}\n",
            "\n",
            "Expected Output:\n",
            "3\n",
            "\n",
            "\n",
            "Actual Output:\n",
            "3\n",
            "\n",
            "Execution Time:\n",
            "0.007 ms\n",
            "\n",
            "Test Result:\n",
            "\u001b[92mPASSED\u001b[0m\n",
            "\n"
          ]
        },
        {
          "output_type": "execute_result",
          "data": {
            "text/plain": [
              "(3, True, 0.007)"
            ]
          },
          "metadata": {},
          "execution_count": 176
        }
      ]
    },
    {
      "cell_type": "code",
      "source": [
        "from jovian.pythondsa import evaluate_test_cases"
      ],
      "metadata": {
        "id": "hDudk70wVUcU"
      },
      "execution_count": 177,
      "outputs": []
    },
    {
      "cell_type": "code",
      "source": [
        "evaluate_test_cases(locate_card,tests)"
      ],
      "metadata": {
        "id": "L6M5TFW1Wm66",
        "colab": {
          "base_uri": "https://localhost:8080/"
        },
        "outputId": "beb5579f-f647-4015-df14-a40bc574fc48"
      },
      "execution_count": 178,
      "outputs": [
        {
          "output_type": "stream",
          "name": "stdout",
          "text": [
            "\n",
            "\u001b[1mTEST CASE #0\u001b[0m\n",
            "\n",
            "Input:\n",
            "{'cards': [13, 11, 10, 5, 4, 2, 1], 'query': 5}\n",
            "\n",
            "Expected Output:\n",
            "3\n",
            "\n",
            "\n",
            "Actual Output:\n",
            "3\n",
            "\n",
            "Execution Time:\n",
            "0.007 ms\n",
            "\n",
            "Test Result:\n",
            "\u001b[92mPASSED\u001b[0m\n",
            "\n",
            "\n",
            "\u001b[1mTEST CASE #1\u001b[0m\n",
            "\n",
            "Input:\n",
            "{'cards': [13, 11, 10, 5, 4, 2, 1], 'query': 11}\n",
            "\n",
            "Expected Output:\n",
            "1\n",
            "\n",
            "\n",
            "Actual Output:\n",
            "1\n",
            "\n",
            "Execution Time:\n",
            "0.072 ms\n",
            "\n",
            "Test Result:\n",
            "\u001b[92mPASSED\u001b[0m\n",
            "\n",
            "\n",
            "\u001b[1mTEST CASE #2\u001b[0m\n",
            "\n",
            "Input:\n",
            "{'cards': [13, 11, 10, 5, 4, 2, 1], 'query': 4}\n",
            "\n",
            "Expected Output:\n",
            "4\n",
            "\n",
            "\n",
            "Actual Output:\n",
            "4\n",
            "\n",
            "Execution Time:\n",
            "0.007 ms\n",
            "\n",
            "Test Result:\n",
            "\u001b[92mPASSED\u001b[0m\n",
            "\n",
            "\n",
            "\u001b[1mTEST CASE #3\u001b[0m\n",
            "\n",
            "Input:\n",
            "{'cards': [13, 11, 10, 5, 4, 2, 1], 'query': 2}\n",
            "\n",
            "Expected Output:\n",
            "5\n",
            "\n",
            "\n",
            "Actual Output:\n",
            "5\n",
            "\n",
            "Execution Time:\n",
            "0.006 ms\n",
            "\n",
            "Test Result:\n",
            "\u001b[92mPASSED\u001b[0m\n",
            "\n",
            "\n",
            "\u001b[1mTEST CASE #4\u001b[0m\n",
            "\n",
            "Input:\n",
            "{'cards': [13], 'query': 13}\n",
            "\n",
            "Expected Output:\n",
            "0\n",
            "\n",
            "\n",
            "Actual Output:\n",
            "0\n",
            "\n",
            "Execution Time:\n",
            "0.003 ms\n",
            "\n",
            "Test Result:\n",
            "\u001b[92mPASSED\u001b[0m\n",
            "\n",
            "\n",
            "\u001b[1mTEST CASE #5\u001b[0m\n",
            "\n",
            "Input:\n",
            "{'cards': [13, 11, 10, 5, 4, 2, 1], 'query': 15}\n",
            "\n",
            "Expected Output:\n",
            "-1\n",
            "\n",
            "\n",
            "Actual Output:\n",
            "-1\n",
            "\n",
            "Execution Time:\n",
            "0.004 ms\n",
            "\n",
            "Test Result:\n",
            "\u001b[92mPASSED\u001b[0m\n",
            "\n",
            "\n",
            "\u001b[1mTEST CASE #6\u001b[0m\n",
            "\n",
            "Input:\n",
            "{'cards': [8, 8, 6, 6, 6, 6, 3, 2, 2, 20, 0, 0, 0], 'query': 3}\n",
            "\n",
            "Expected Output:\n",
            "6\n",
            "\n",
            "\n",
            "Actual Output:\n",
            "6\n",
            "\n",
            "Execution Time:\n",
            "0.004 ms\n",
            "\n",
            "Test Result:\n",
            "\u001b[92mPASSED\u001b[0m\n",
            "\n",
            "\n",
            "\u001b[1mTEST CASE #7\u001b[0m\n",
            "\n",
            "Input:\n",
            "{'cards': [6, 6, 6, 6, 2, 2, 2, 8, 1, 0], 'query': 6}\n",
            "\n",
            "Expected Output:\n",
            "2\n",
            "\n",
            "\n",
            "Actual Output:\n",
            "0\n",
            "\n",
            "Execution Time:\n",
            "0.004 ms\n",
            "\n",
            "Test Result:\n",
            "\u001b[91mFAILED\u001b[0m\n",
            "\n",
            "\n",
            "\u001b[1mTEST CASE #8\u001b[0m\n",
            "\n",
            "Input:\n",
            "{'cards': [6, 6, 6, 6, 2, 2, 2, 8, 1, 0], 'query': 6}\n",
            "\n",
            "Expected Output:\n",
            "3\n",
            "\n",
            "\n",
            "Actual Output:\n",
            "0\n",
            "\n",
            "Execution Time:\n",
            "0.003 ms\n",
            "\n",
            "Test Result:\n",
            "\u001b[91mFAILED\u001b[0m\n",
            "\n",
            "\n",
            "\u001b[1mTEST CASE #9\u001b[0m\n",
            "\n",
            "Input:\n",
            "{'cards': [6, 6, 6, 6, 2, 2, 2, 8, 1, 0], 'query': 6}\n",
            "\n",
            "Expected Output:\n",
            "0\n",
            "\n",
            "\n",
            "Actual Output:\n",
            "0\n",
            "\n",
            "Execution Time:\n",
            "0.003 ms\n",
            "\n",
            "Test Result:\n",
            "\u001b[92mPASSED\u001b[0m\n",
            "\n",
            "\n",
            "\u001b[1mSUMMARY\u001b[0m\n",
            "\n",
            "TOTAL: 10, \u001b[92mPASSED\u001b[0m: 8, \u001b[91mFAILED\u001b[0m: 2\n"
          ]
        },
        {
          "output_type": "execute_result",
          "data": {
            "text/plain": [
              "[(3, True, 0.007),\n",
              " (1, True, 0.072),\n",
              " (4, True, 0.007),\n",
              " (5, True, 0.006),\n",
              " (0, True, 0.003),\n",
              " (-1, True, 0.004),\n",
              " (6, True, 0.004),\n",
              " (0, False, 0.004),\n",
              " (0, False, 0.003),\n",
              " (0, True, 0.003)]"
            ]
          },
          "metadata": {},
          "execution_count": 178
        }
      ]
    },
    {
      "cell_type": "code",
      "source": [],
      "metadata": {
        "id": "z2M_qPuTfU-d"
      },
      "execution_count": null,
      "outputs": []
    }
  ]
}